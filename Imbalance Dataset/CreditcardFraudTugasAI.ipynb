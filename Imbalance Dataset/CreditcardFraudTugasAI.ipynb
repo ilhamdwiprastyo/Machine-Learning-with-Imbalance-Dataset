{
 "cells": [
  {
   "cell_type": "code",
   "execution_count": 1,
   "metadata": {
    "id": "WKyVaGb_oAyf"
   },
   "outputs": [],
   "source": [
    "import pandas as pd\n",
    "import numpy as np"
   ]
  },
  {
   "cell_type": "code",
   "execution_count": 2,
   "metadata": {
    "colab": {
     "base_uri": "https://localhost:8080/",
     "height": 255
    },
    "id": "ylfK9elCozXH",
    "outputId": "92db705f-92d5-444f-d696-6ca19e9a62e8"
   },
   "outputs": [
    {
     "data": {
      "text/html": [
       "<div>\n",
       "<style scoped>\n",
       "    .dataframe tbody tr th:only-of-type {\n",
       "        vertical-align: middle;\n",
       "    }\n",
       "\n",
       "    .dataframe tbody tr th {\n",
       "        vertical-align: top;\n",
       "    }\n",
       "\n",
       "    .dataframe thead th {\n",
       "        text-align: right;\n",
       "    }\n",
       "</style>\n",
       "<table border=\"1\" class=\"dataframe\">\n",
       "  <thead>\n",
       "    <tr style=\"text-align: right;\">\n",
       "      <th></th>\n",
       "      <th>V1</th>\n",
       "      <th>V2</th>\n",
       "      <th>V3</th>\n",
       "      <th>V4</th>\n",
       "      <th>V5</th>\n",
       "      <th>V6</th>\n",
       "      <th>V7</th>\n",
       "      <th>V8</th>\n",
       "      <th>V9</th>\n",
       "      <th>V10</th>\n",
       "      <th>...</th>\n",
       "      <th>V21</th>\n",
       "      <th>V22</th>\n",
       "      <th>V23</th>\n",
       "      <th>V24</th>\n",
       "      <th>V25</th>\n",
       "      <th>V26</th>\n",
       "      <th>V27</th>\n",
       "      <th>V28</th>\n",
       "      <th>Amount</th>\n",
       "      <th>Class</th>\n",
       "    </tr>\n",
       "    <tr>\n",
       "      <th>Time</th>\n",
       "      <th></th>\n",
       "      <th></th>\n",
       "      <th></th>\n",
       "      <th></th>\n",
       "      <th></th>\n",
       "      <th></th>\n",
       "      <th></th>\n",
       "      <th></th>\n",
       "      <th></th>\n",
       "      <th></th>\n",
       "      <th></th>\n",
       "      <th></th>\n",
       "      <th></th>\n",
       "      <th></th>\n",
       "      <th></th>\n",
       "      <th></th>\n",
       "      <th></th>\n",
       "      <th></th>\n",
       "      <th></th>\n",
       "      <th></th>\n",
       "      <th></th>\n",
       "    </tr>\n",
       "  </thead>\n",
       "  <tbody>\n",
       "    <tr>\n",
       "      <th>0.0</th>\n",
       "      <td>-1.359807</td>\n",
       "      <td>-0.072781</td>\n",
       "      <td>2.536347</td>\n",
       "      <td>1.378155</td>\n",
       "      <td>-0.338321</td>\n",
       "      <td>0.462388</td>\n",
       "      <td>0.239599</td>\n",
       "      <td>0.098698</td>\n",
       "      <td>0.363787</td>\n",
       "      <td>0.090794</td>\n",
       "      <td>...</td>\n",
       "      <td>-0.018307</td>\n",
       "      <td>0.277838</td>\n",
       "      <td>-0.110474</td>\n",
       "      <td>0.066928</td>\n",
       "      <td>0.128539</td>\n",
       "      <td>-0.189115</td>\n",
       "      <td>0.133558</td>\n",
       "      <td>-0.021053</td>\n",
       "      <td>149.62</td>\n",
       "      <td>0</td>\n",
       "    </tr>\n",
       "    <tr>\n",
       "      <th>0.0</th>\n",
       "      <td>1.191857</td>\n",
       "      <td>0.266151</td>\n",
       "      <td>0.166480</td>\n",
       "      <td>0.448154</td>\n",
       "      <td>0.060018</td>\n",
       "      <td>-0.082361</td>\n",
       "      <td>-0.078803</td>\n",
       "      <td>0.085102</td>\n",
       "      <td>-0.255425</td>\n",
       "      <td>-0.166974</td>\n",
       "      <td>...</td>\n",
       "      <td>-0.225775</td>\n",
       "      <td>-0.638672</td>\n",
       "      <td>0.101288</td>\n",
       "      <td>-0.339846</td>\n",
       "      <td>0.167170</td>\n",
       "      <td>0.125895</td>\n",
       "      <td>-0.008983</td>\n",
       "      <td>0.014724</td>\n",
       "      <td>2.69</td>\n",
       "      <td>0</td>\n",
       "    </tr>\n",
       "    <tr>\n",
       "      <th>1.0</th>\n",
       "      <td>-1.358354</td>\n",
       "      <td>-1.340163</td>\n",
       "      <td>1.773209</td>\n",
       "      <td>0.379780</td>\n",
       "      <td>-0.503198</td>\n",
       "      <td>1.800499</td>\n",
       "      <td>0.791461</td>\n",
       "      <td>0.247676</td>\n",
       "      <td>-1.514654</td>\n",
       "      <td>0.207643</td>\n",
       "      <td>...</td>\n",
       "      <td>0.247998</td>\n",
       "      <td>0.771679</td>\n",
       "      <td>0.909412</td>\n",
       "      <td>-0.689281</td>\n",
       "      <td>-0.327642</td>\n",
       "      <td>-0.139097</td>\n",
       "      <td>-0.055353</td>\n",
       "      <td>-0.059752</td>\n",
       "      <td>378.66</td>\n",
       "      <td>0</td>\n",
       "    </tr>\n",
       "    <tr>\n",
       "      <th>1.0</th>\n",
       "      <td>-0.966272</td>\n",
       "      <td>-0.185226</td>\n",
       "      <td>1.792993</td>\n",
       "      <td>-0.863291</td>\n",
       "      <td>-0.010309</td>\n",
       "      <td>1.247203</td>\n",
       "      <td>0.237609</td>\n",
       "      <td>0.377436</td>\n",
       "      <td>-1.387024</td>\n",
       "      <td>-0.054952</td>\n",
       "      <td>...</td>\n",
       "      <td>-0.108300</td>\n",
       "      <td>0.005274</td>\n",
       "      <td>-0.190321</td>\n",
       "      <td>-1.175575</td>\n",
       "      <td>0.647376</td>\n",
       "      <td>-0.221929</td>\n",
       "      <td>0.062723</td>\n",
       "      <td>0.061458</td>\n",
       "      <td>123.50</td>\n",
       "      <td>0</td>\n",
       "    </tr>\n",
       "    <tr>\n",
       "      <th>2.0</th>\n",
       "      <td>-1.158233</td>\n",
       "      <td>0.877737</td>\n",
       "      <td>1.548718</td>\n",
       "      <td>0.403034</td>\n",
       "      <td>-0.407193</td>\n",
       "      <td>0.095921</td>\n",
       "      <td>0.592941</td>\n",
       "      <td>-0.270533</td>\n",
       "      <td>0.817739</td>\n",
       "      <td>0.753074</td>\n",
       "      <td>...</td>\n",
       "      <td>-0.009431</td>\n",
       "      <td>0.798278</td>\n",
       "      <td>-0.137458</td>\n",
       "      <td>0.141267</td>\n",
       "      <td>-0.206010</td>\n",
       "      <td>0.502292</td>\n",
       "      <td>0.219422</td>\n",
       "      <td>0.215153</td>\n",
       "      <td>69.99</td>\n",
       "      <td>0</td>\n",
       "    </tr>\n",
       "  </tbody>\n",
       "</table>\n",
       "<p>5 rows × 30 columns</p>\n",
       "</div>"
      ],
      "text/plain": [
       "            V1        V2        V3        V4        V5        V6        V7  \\\n",
       "Time                                                                         \n",
       "0.0  -1.359807 -0.072781  2.536347  1.378155 -0.338321  0.462388  0.239599   \n",
       "0.0   1.191857  0.266151  0.166480  0.448154  0.060018 -0.082361 -0.078803   \n",
       "1.0  -1.358354 -1.340163  1.773209  0.379780 -0.503198  1.800499  0.791461   \n",
       "1.0  -0.966272 -0.185226  1.792993 -0.863291 -0.010309  1.247203  0.237609   \n",
       "2.0  -1.158233  0.877737  1.548718  0.403034 -0.407193  0.095921  0.592941   \n",
       "\n",
       "            V8        V9       V10  ...       V21       V22       V23  \\\n",
       "Time                                ...                                 \n",
       "0.0   0.098698  0.363787  0.090794  ... -0.018307  0.277838 -0.110474   \n",
       "0.0   0.085102 -0.255425 -0.166974  ... -0.225775 -0.638672  0.101288   \n",
       "1.0   0.247676 -1.514654  0.207643  ...  0.247998  0.771679  0.909412   \n",
       "1.0   0.377436 -1.387024 -0.054952  ... -0.108300  0.005274 -0.190321   \n",
       "2.0  -0.270533  0.817739  0.753074  ... -0.009431  0.798278 -0.137458   \n",
       "\n",
       "           V24       V25       V26       V27       V28  Amount  Class  \n",
       "Time                                                                   \n",
       "0.0   0.066928  0.128539 -0.189115  0.133558 -0.021053  149.62      0  \n",
       "0.0  -0.339846  0.167170  0.125895 -0.008983  0.014724    2.69      0  \n",
       "1.0  -0.689281 -0.327642 -0.139097 -0.055353 -0.059752  378.66      0  \n",
       "1.0  -1.175575  0.647376 -0.221929  0.062723  0.061458  123.50      0  \n",
       "2.0   0.141267 -0.206010  0.502292  0.219422  0.215153   69.99      0  \n",
       "\n",
       "[5 rows x 30 columns]"
      ]
     },
     "execution_count": 2,
     "metadata": {},
     "output_type": "execute_result"
    }
   ],
   "source": [
    "data = pd.read_csv('Dataset/creditcard.csv',index_col='Time')\n",
    "data.head()"
   ]
  },
  {
   "cell_type": "code",
   "execution_count": 3,
   "metadata": {
    "colab": {
     "base_uri": "https://localhost:8080/"
    },
    "id": "LNpv9VjdpFg_",
    "outputId": "ed491672-59fa-4f65-988a-bce2ce80add4"
   },
   "outputs": [
    {
     "name": "stdout",
     "output_type": "stream",
     "text": [
      "<class 'pandas.core.frame.DataFrame'>\n",
      "Float64Index: 284807 entries, 0.0 to 172792.0\n",
      "Data columns (total 30 columns):\n",
      " #   Column  Non-Null Count   Dtype  \n",
      "---  ------  --------------   -----  \n",
      " 0   V1      284807 non-null  float64\n",
      " 1   V2      284807 non-null  float64\n",
      " 2   V3      284807 non-null  float64\n",
      " 3   V4      284807 non-null  float64\n",
      " 4   V5      284807 non-null  float64\n",
      " 5   V6      284807 non-null  float64\n",
      " 6   V7      284807 non-null  float64\n",
      " 7   V8      284807 non-null  float64\n",
      " 8   V9      284807 non-null  float64\n",
      " 9   V10     284807 non-null  float64\n",
      " 10  V11     284807 non-null  float64\n",
      " 11  V12     284807 non-null  float64\n",
      " 12  V13     284807 non-null  float64\n",
      " 13  V14     284807 non-null  float64\n",
      " 14  V15     284807 non-null  float64\n",
      " 15  V16     284807 non-null  float64\n",
      " 16  V17     284807 non-null  float64\n",
      " 17  V18     284807 non-null  float64\n",
      " 18  V19     284807 non-null  float64\n",
      " 19  V20     284807 non-null  float64\n",
      " 20  V21     284807 non-null  float64\n",
      " 21  V22     284807 non-null  float64\n",
      " 22  V23     284807 non-null  float64\n",
      " 23  V24     284807 non-null  float64\n",
      " 24  V25     284807 non-null  float64\n",
      " 25  V26     284807 non-null  float64\n",
      " 26  V27     284807 non-null  float64\n",
      " 27  V28     284807 non-null  float64\n",
      " 28  Amount  284807 non-null  float64\n",
      " 29  Class   284807 non-null  int64  \n",
      "dtypes: float64(29), int64(1)\n",
      "memory usage: 67.4 MB\n"
     ]
    }
   ],
   "source": [
    "data.info()"
   ]
  },
  {
   "cell_type": "code",
   "execution_count": 4,
   "metadata": {
    "id": "4aqF_AD3pOV0"
   },
   "outputs": [],
   "source": [
    "from sklearn import preprocessing"
   ]
  },
  {
   "cell_type": "code",
   "execution_count": 5,
   "metadata": {
    "colab": {
     "base_uri": "https://localhost:8080/"
    },
    "id": "6fTeSvgnplqJ",
    "outputId": "1e21a660-6daa-42ce-9e95-e312def983da"
   },
   "outputs": [
    {
     "data": {
      "text/plain": [
       "V1        0\n",
       "V2        0\n",
       "V3        0\n",
       "V4        0\n",
       "V5        0\n",
       "V6        0\n",
       "V7        0\n",
       "V8        0\n",
       "V9        0\n",
       "V10       0\n",
       "V11       0\n",
       "V12       0\n",
       "V13       0\n",
       "V14       0\n",
       "V15       0\n",
       "V16       0\n",
       "V17       0\n",
       "V18       0\n",
       "V19       0\n",
       "V20       0\n",
       "V21       0\n",
       "V22       0\n",
       "V23       0\n",
       "V24       0\n",
       "V25       0\n",
       "V26       0\n",
       "V27       0\n",
       "V28       0\n",
       "Amount    0\n",
       "Class     0\n",
       "dtype: int64"
      ]
     },
     "execution_count": 5,
     "metadata": {},
     "output_type": "execute_result"
    }
   ],
   "source": [
    "np.sum(data.isnull())"
   ]
  },
  {
   "cell_type": "code",
   "execution_count": 6,
   "metadata": {
    "id": "Op4R75vOppGO"
   },
   "outputs": [],
   "source": [
    "dfa = data.replace('?', np.NaN)"
   ]
  },
  {
   "cell_type": "code",
   "execution_count": 7,
   "metadata": {
    "colab": {
     "base_uri": "https://localhost:8080/"
    },
    "id": "IvjkDxWHp6Hj",
    "outputId": "5ddc844b-6e16-4836-f307-e8436d31c6de"
   },
   "outputs": [
    {
     "data": {
      "text/plain": [
       "V1        0\n",
       "V2        0\n",
       "V3        0\n",
       "V4        0\n",
       "V5        0\n",
       "V6        0\n",
       "V7        0\n",
       "V8        0\n",
       "V9        0\n",
       "V10       0\n",
       "V11       0\n",
       "V12       0\n",
       "V13       0\n",
       "V14       0\n",
       "V15       0\n",
       "V16       0\n",
       "V17       0\n",
       "V18       0\n",
       "V19       0\n",
       "V20       0\n",
       "V21       0\n",
       "V22       0\n",
       "V23       0\n",
       "V24       0\n",
       "V25       0\n",
       "V26       0\n",
       "V27       0\n",
       "V28       0\n",
       "Amount    0\n",
       "Class     0\n",
       "dtype: int64"
      ]
     },
     "execution_count": 7,
     "metadata": {},
     "output_type": "execute_result"
    }
   ],
   "source": [
    "dataNM = dfa.apply(lambda x:x.fillna(x.value_counts().index[0]))\n",
    "np.sum(dataNM.isnull())\n"
   ]
  },
  {
   "cell_type": "code",
   "execution_count": 8,
   "metadata": {
    "colab": {
     "base_uri": "https://localhost:8080/",
     "height": 255
    },
    "id": "CrCRj4dOqQfA",
    "outputId": "6d4e2694-0c32-42f8-be6c-b5672c4a0e7b"
   },
   "outputs": [
    {
     "data": {
      "text/html": [
       "<div>\n",
       "<style scoped>\n",
       "    .dataframe tbody tr th:only-of-type {\n",
       "        vertical-align: middle;\n",
       "    }\n",
       "\n",
       "    .dataframe tbody tr th {\n",
       "        vertical-align: top;\n",
       "    }\n",
       "\n",
       "    .dataframe thead th {\n",
       "        text-align: right;\n",
       "    }\n",
       "</style>\n",
       "<table border=\"1\" class=\"dataframe\">\n",
       "  <thead>\n",
       "    <tr style=\"text-align: right;\">\n",
       "      <th></th>\n",
       "      <th>V1</th>\n",
       "      <th>V2</th>\n",
       "      <th>V3</th>\n",
       "      <th>V4</th>\n",
       "      <th>V5</th>\n",
       "      <th>V6</th>\n",
       "      <th>V7</th>\n",
       "      <th>V8</th>\n",
       "      <th>V9</th>\n",
       "      <th>V10</th>\n",
       "      <th>...</th>\n",
       "      <th>V21</th>\n",
       "      <th>V22</th>\n",
       "      <th>V23</th>\n",
       "      <th>V24</th>\n",
       "      <th>V25</th>\n",
       "      <th>V26</th>\n",
       "      <th>V27</th>\n",
       "      <th>V28</th>\n",
       "      <th>Amount</th>\n",
       "      <th>Class</th>\n",
       "    </tr>\n",
       "    <tr>\n",
       "      <th>Time</th>\n",
       "      <th></th>\n",
       "      <th></th>\n",
       "      <th></th>\n",
       "      <th></th>\n",
       "      <th></th>\n",
       "      <th></th>\n",
       "      <th></th>\n",
       "      <th></th>\n",
       "      <th></th>\n",
       "      <th></th>\n",
       "      <th></th>\n",
       "      <th></th>\n",
       "      <th></th>\n",
       "      <th></th>\n",
       "      <th></th>\n",
       "      <th></th>\n",
       "      <th></th>\n",
       "      <th></th>\n",
       "      <th></th>\n",
       "      <th></th>\n",
       "      <th></th>\n",
       "    </tr>\n",
       "  </thead>\n",
       "  <tbody>\n",
       "    <tr>\n",
       "      <th>0.0</th>\n",
       "      <td>-1.359807</td>\n",
       "      <td>-0.072781</td>\n",
       "      <td>2.536347</td>\n",
       "      <td>1.378155</td>\n",
       "      <td>-0.338321</td>\n",
       "      <td>0.462388</td>\n",
       "      <td>0.239599</td>\n",
       "      <td>0.098698</td>\n",
       "      <td>0.363787</td>\n",
       "      <td>0.090794</td>\n",
       "      <td>...</td>\n",
       "      <td>-0.018307</td>\n",
       "      <td>0.277838</td>\n",
       "      <td>-0.110474</td>\n",
       "      <td>0.066928</td>\n",
       "      <td>0.128539</td>\n",
       "      <td>-0.189115</td>\n",
       "      <td>0.133558</td>\n",
       "      <td>-0.021053</td>\n",
       "      <td>149.62</td>\n",
       "      <td>0</td>\n",
       "    </tr>\n",
       "    <tr>\n",
       "      <th>0.0</th>\n",
       "      <td>1.191857</td>\n",
       "      <td>0.266151</td>\n",
       "      <td>0.166480</td>\n",
       "      <td>0.448154</td>\n",
       "      <td>0.060018</td>\n",
       "      <td>-0.082361</td>\n",
       "      <td>-0.078803</td>\n",
       "      <td>0.085102</td>\n",
       "      <td>-0.255425</td>\n",
       "      <td>-0.166974</td>\n",
       "      <td>...</td>\n",
       "      <td>-0.225775</td>\n",
       "      <td>-0.638672</td>\n",
       "      <td>0.101288</td>\n",
       "      <td>-0.339846</td>\n",
       "      <td>0.167170</td>\n",
       "      <td>0.125895</td>\n",
       "      <td>-0.008983</td>\n",
       "      <td>0.014724</td>\n",
       "      <td>2.69</td>\n",
       "      <td>0</td>\n",
       "    </tr>\n",
       "    <tr>\n",
       "      <th>1.0</th>\n",
       "      <td>-1.358354</td>\n",
       "      <td>-1.340163</td>\n",
       "      <td>1.773209</td>\n",
       "      <td>0.379780</td>\n",
       "      <td>-0.503198</td>\n",
       "      <td>1.800499</td>\n",
       "      <td>0.791461</td>\n",
       "      <td>0.247676</td>\n",
       "      <td>-1.514654</td>\n",
       "      <td>0.207643</td>\n",
       "      <td>...</td>\n",
       "      <td>0.247998</td>\n",
       "      <td>0.771679</td>\n",
       "      <td>0.909412</td>\n",
       "      <td>-0.689281</td>\n",
       "      <td>-0.327642</td>\n",
       "      <td>-0.139097</td>\n",
       "      <td>-0.055353</td>\n",
       "      <td>-0.059752</td>\n",
       "      <td>378.66</td>\n",
       "      <td>0</td>\n",
       "    </tr>\n",
       "    <tr>\n",
       "      <th>1.0</th>\n",
       "      <td>-0.966272</td>\n",
       "      <td>-0.185226</td>\n",
       "      <td>1.792993</td>\n",
       "      <td>-0.863291</td>\n",
       "      <td>-0.010309</td>\n",
       "      <td>1.247203</td>\n",
       "      <td>0.237609</td>\n",
       "      <td>0.377436</td>\n",
       "      <td>-1.387024</td>\n",
       "      <td>-0.054952</td>\n",
       "      <td>...</td>\n",
       "      <td>-0.108300</td>\n",
       "      <td>0.005274</td>\n",
       "      <td>-0.190321</td>\n",
       "      <td>-1.175575</td>\n",
       "      <td>0.647376</td>\n",
       "      <td>-0.221929</td>\n",
       "      <td>0.062723</td>\n",
       "      <td>0.061458</td>\n",
       "      <td>123.50</td>\n",
       "      <td>0</td>\n",
       "    </tr>\n",
       "    <tr>\n",
       "      <th>2.0</th>\n",
       "      <td>-1.158233</td>\n",
       "      <td>0.877737</td>\n",
       "      <td>1.548718</td>\n",
       "      <td>0.403034</td>\n",
       "      <td>-0.407193</td>\n",
       "      <td>0.095921</td>\n",
       "      <td>0.592941</td>\n",
       "      <td>-0.270533</td>\n",
       "      <td>0.817739</td>\n",
       "      <td>0.753074</td>\n",
       "      <td>...</td>\n",
       "      <td>-0.009431</td>\n",
       "      <td>0.798278</td>\n",
       "      <td>-0.137458</td>\n",
       "      <td>0.141267</td>\n",
       "      <td>-0.206010</td>\n",
       "      <td>0.502292</td>\n",
       "      <td>0.219422</td>\n",
       "      <td>0.215153</td>\n",
       "      <td>69.99</td>\n",
       "      <td>0</td>\n",
       "    </tr>\n",
       "  </tbody>\n",
       "</table>\n",
       "<p>5 rows × 30 columns</p>\n",
       "</div>"
      ],
      "text/plain": [
       "            V1        V2        V3        V4        V5        V6        V7  \\\n",
       "Time                                                                         \n",
       "0.0  -1.359807 -0.072781  2.536347  1.378155 -0.338321  0.462388  0.239599   \n",
       "0.0   1.191857  0.266151  0.166480  0.448154  0.060018 -0.082361 -0.078803   \n",
       "1.0  -1.358354 -1.340163  1.773209  0.379780 -0.503198  1.800499  0.791461   \n",
       "1.0  -0.966272 -0.185226  1.792993 -0.863291 -0.010309  1.247203  0.237609   \n",
       "2.0  -1.158233  0.877737  1.548718  0.403034 -0.407193  0.095921  0.592941   \n",
       "\n",
       "            V8        V9       V10  ...       V21       V22       V23  \\\n",
       "Time                                ...                                 \n",
       "0.0   0.098698  0.363787  0.090794  ... -0.018307  0.277838 -0.110474   \n",
       "0.0   0.085102 -0.255425 -0.166974  ... -0.225775 -0.638672  0.101288   \n",
       "1.0   0.247676 -1.514654  0.207643  ...  0.247998  0.771679  0.909412   \n",
       "1.0   0.377436 -1.387024 -0.054952  ... -0.108300  0.005274 -0.190321   \n",
       "2.0  -0.270533  0.817739  0.753074  ... -0.009431  0.798278 -0.137458   \n",
       "\n",
       "           V24       V25       V26       V27       V28  Amount  Class  \n",
       "Time                                                                   \n",
       "0.0   0.066928  0.128539 -0.189115  0.133558 -0.021053  149.62      0  \n",
       "0.0  -0.339846  0.167170  0.125895 -0.008983  0.014724    2.69      0  \n",
       "1.0  -0.689281 -0.327642 -0.139097 -0.055353 -0.059752  378.66      0  \n",
       "1.0  -1.175575  0.647376 -0.221929  0.062723  0.061458  123.50      0  \n",
       "2.0   0.141267 -0.206010  0.502292  0.219422  0.215153   69.99      0  \n",
       "\n",
       "[5 rows x 30 columns]"
      ]
     },
     "execution_count": 8,
     "metadata": {},
     "output_type": "execute_result"
    }
   ],
   "source": [
    "dataNM.head()"
   ]
  },
  {
   "cell_type": "code",
   "execution_count": 9,
   "metadata": {
    "colab": {
     "base_uri": "https://localhost:8080/"
    },
    "id": "hnHQKqxbqVfM",
    "outputId": "8489d92b-c820-4a5e-f83d-93ea3e90d2d0"
   },
   "outputs": [
    {
     "name": "stdout",
     "output_type": "stream",
     "text": [
      "<class 'pandas.core.frame.DataFrame'>\n",
      "Float64Index: 284807 entries, 0.0 to 172792.0\n",
      "Data columns (total 30 columns):\n",
      " #   Column  Non-Null Count   Dtype  \n",
      "---  ------  --------------   -----  \n",
      " 0   V1      284807 non-null  float64\n",
      " 1   V2      284807 non-null  float64\n",
      " 2   V3      284807 non-null  float64\n",
      " 3   V4      284807 non-null  float64\n",
      " 4   V5      284807 non-null  float64\n",
      " 5   V6      284807 non-null  float64\n",
      " 6   V7      284807 non-null  float64\n",
      " 7   V8      284807 non-null  float64\n",
      " 8   V9      284807 non-null  float64\n",
      " 9   V10     284807 non-null  float64\n",
      " 10  V11     284807 non-null  float64\n",
      " 11  V12     284807 non-null  float64\n",
      " 12  V13     284807 non-null  float64\n",
      " 13  V14     284807 non-null  float64\n",
      " 14  V15     284807 non-null  float64\n",
      " 15  V16     284807 non-null  float64\n",
      " 16  V17     284807 non-null  float64\n",
      " 17  V18     284807 non-null  float64\n",
      " 18  V19     284807 non-null  float64\n",
      " 19  V20     284807 non-null  float64\n",
      " 20  V21     284807 non-null  float64\n",
      " 21  V22     284807 non-null  float64\n",
      " 22  V23     284807 non-null  float64\n",
      " 23  V24     284807 non-null  float64\n",
      " 24  V25     284807 non-null  float64\n",
      " 25  V26     284807 non-null  float64\n",
      " 26  V27     284807 non-null  float64\n",
      " 27  V28     284807 non-null  float64\n",
      " 28  Amount  284807 non-null  float64\n",
      " 29  Class   284807 non-null  int64  \n",
      "dtypes: float64(29), int64(1)\n",
      "memory usage: 67.4 MB\n"
     ]
    }
   ],
   "source": [
    "dataNM.info()"
   ]
  },
  {
   "cell_type": "code",
   "execution_count": 10,
   "metadata": {
    "id": "pP0CVf4P1Fv8"
   },
   "outputs": [],
   "source": [
    "from sklearn.preprocessing import LabelEncoder"
   ]
  },
  {
   "cell_type": "code",
   "execution_count": 11,
   "metadata": {
    "id": "pC6ry8OIqaNH"
   },
   "outputs": [],
   "source": [
    "#encoding data\n",
    "\n",
    "dataNM['Amount'] = LabelEncoder().fit_transform(dataNM['Amount'])\n",
    "dataNM['Class'] = LabelEncoder().fit_transform(dataNM['Class'])\n",
    "dataNM['V1']= LabelEncoder().fit_transform(dataNM['V1'])\n",
    "dataNM['V2']= LabelEncoder().fit_transform(dataNM['V2'])\n",
    "dataNM['V3']= LabelEncoder().fit_transform(dataNM['V3'])\n",
    "dataNM['V4']= LabelEncoder().fit_transform(dataNM['V4'])\n",
    "dataNM['V5']= LabelEncoder().fit_transform(dataNM['V5'])\n",
    "dataNM['V6']= LabelEncoder().fit_transform(dataNM['V6'])\n",
    "dataNM['V7']= LabelEncoder().fit_transform(dataNM['V7'])\n",
    "dataNM['V8']= LabelEncoder().fit_transform(dataNM['V8'])\n",
    "dataNM['V9']= LabelEncoder().fit_transform(dataNM['V9'])\n",
    "dataNM['V10']= LabelEncoder().fit_transform(dataNM['V10'])\n",
    "dataNM['V11']= LabelEncoder().fit_transform(dataNM['V11'])\n",
    "dataNM['V12']= LabelEncoder().fit_transform(dataNM['V12'])\n",
    "dataNM['V13']= LabelEncoder().fit_transform(dataNM['V13'])\n",
    "dataNM['V14']= LabelEncoder().fit_transform(dataNM['V14'])\n",
    "dataNM['V15']= LabelEncoder().fit_transform(dataNM['V15'])\n",
    "dataNM['V16']= LabelEncoder().fit_transform(dataNM['V16'])\n",
    "dataNM['V17']= LabelEncoder().fit_transform(dataNM['V17'])\n",
    "dataNM['V18']= LabelEncoder().fit_transform(dataNM['V18'])\n",
    "dataNM['V19']= LabelEncoder().fit_transform(dataNM['V19'])\n",
    "dataNM['V20']= LabelEncoder().fit_transform(dataNM['V20'])\n",
    "dataNM['V21']= LabelEncoder().fit_transform(dataNM['V21'])\n",
    "dataNM['V22']= LabelEncoder().fit_transform(dataNM['V22'])\n",
    "dataNM['V23']= LabelEncoder().fit_transform(dataNM['V23'])\n",
    "dataNM['V24']= LabelEncoder().fit_transform(dataNM['V24'])\n",
    "dataNM['V25']= LabelEncoder().fit_transform(dataNM['V25'])\n",
    "dataNM['V26']= LabelEncoder().fit_transform(dataNM['V26'])\n",
    "dataNM['V27']= LabelEncoder().fit_transform(dataNM['V27'])\n",
    "dataNM['V28']= LabelEncoder().fit_transform(dataNM['V28'])\n",
    "\n",
    "dataNM['Amount'] = dataNM['Amount'].astype('category')\n",
    "dataNM['Class'] = dataNM['Class'].astype('category')\n",
    "dataNM['V1']= dataNM['V1'].astype('category')\n",
    "dataNM['V2']= dataNM['V2'].astype('category')\n",
    "dataNM['V3']= dataNM['V3'].astype('category')\n",
    "dataNM['V4']= dataNM['V4'].astype('category')\n",
    "dataNM['V5']= dataNM['V5'].astype('category')\n",
    "dataNM['V6']= dataNM['V6'].astype('category')\n",
    "dataNM['V7']= dataNM['V7'].astype('category')\n",
    "dataNM['V8']= dataNM['V8'].astype('category')\n",
    "dataNM['V9']= dataNM['V9'].astype('category')\n",
    "dataNM['V10']= dataNM['V10'].astype('category')\n",
    "dataNM['V11']= dataNM['V11'].astype('category')\n",
    "dataNM['V12']= dataNM['V12'].astype('category')\n",
    "dataNM['V13']= dataNM['V13'].astype('category')\n",
    "dataNM['V14']= dataNM['V14'].astype('category')\n",
    "dataNM['V15']= dataNM['V15'].astype('category')\n",
    "dataNM['V16']= dataNM['V16'].astype('category')\n",
    "dataNM['V17']= dataNM['V17'].astype('category')\n",
    "dataNM['V18']= dataNM['V18'].astype('category')\n",
    "dataNM['V19']= dataNM['V19'].astype('category')\n",
    "dataNM['V20']= dataNM['V20'].astype('category')\n",
    "dataNM['V21']= dataNM['V21'].astype('category')\n",
    "dataNM['V22']= dataNM['V22'].astype('category')\n",
    "dataNM['V23']= dataNM['V23'].astype('category')\n",
    "dataNM['V24']= dataNM['V24'].astype('category')\n",
    "dataNM['V25']= dataNM['V25'].astype('category')\n",
    "dataNM['V26']= dataNM['V26'].astype('category')\n",
    "dataNM['V27']= dataNM['V27'].astype('category')\n",
    "dataNM['V28']= dataNM['V28'].astype('category')\n"
   ]
  },
  {
   "cell_type": "code",
   "execution_count": 12,
   "metadata": {
    "colab": {
     "base_uri": "https://localhost:8080/",
     "height": 255
    },
    "id": "6VrtX4WesHrI",
    "outputId": "36905dab-ba70-4847-ee46-5e147045a7a4"
   },
   "outputs": [
    {
     "data": {
      "text/html": [
       "<div>\n",
       "<style scoped>\n",
       "    .dataframe tbody tr th:only-of-type {\n",
       "        vertical-align: middle;\n",
       "    }\n",
       "\n",
       "    .dataframe tbody tr th {\n",
       "        vertical-align: top;\n",
       "    }\n",
       "\n",
       "    .dataframe thead th {\n",
       "        text-align: right;\n",
       "    }\n",
       "</style>\n",
       "<table border=\"1\" class=\"dataframe\">\n",
       "  <thead>\n",
       "    <tr style=\"text-align: right;\">\n",
       "      <th></th>\n",
       "      <th>V1</th>\n",
       "      <th>V2</th>\n",
       "      <th>V3</th>\n",
       "      <th>V4</th>\n",
       "      <th>V5</th>\n",
       "      <th>V6</th>\n",
       "      <th>V7</th>\n",
       "      <th>V8</th>\n",
       "      <th>V9</th>\n",
       "      <th>V10</th>\n",
       "      <th>...</th>\n",
       "      <th>V21</th>\n",
       "      <th>V22</th>\n",
       "      <th>V23</th>\n",
       "      <th>V24</th>\n",
       "      <th>V25</th>\n",
       "      <th>V26</th>\n",
       "      <th>V27</th>\n",
       "      <th>V28</th>\n",
       "      <th>Amount</th>\n",
       "      <th>Class</th>\n",
       "    </tr>\n",
       "    <tr>\n",
       "      <th>Time</th>\n",
       "      <th></th>\n",
       "      <th></th>\n",
       "      <th></th>\n",
       "      <th></th>\n",
       "      <th></th>\n",
       "      <th></th>\n",
       "      <th></th>\n",
       "      <th></th>\n",
       "      <th></th>\n",
       "      <th></th>\n",
       "      <th></th>\n",
       "      <th></th>\n",
       "      <th></th>\n",
       "      <th></th>\n",
       "      <th></th>\n",
       "      <th></th>\n",
       "      <th></th>\n",
       "      <th></th>\n",
       "      <th></th>\n",
       "      <th></th>\n",
       "      <th></th>\n",
       "    </tr>\n",
       "  </thead>\n",
       "  <tbody>\n",
       "    <tr>\n",
       "      <th>0.0</th>\n",
       "      <td>44928</td>\n",
       "      <td>120599</td>\n",
       "      <td>270851</td>\n",
       "      <td>243083</td>\n",
       "      <td>105668</td>\n",
       "      <td>211710</td>\n",
       "      <td>167150</td>\n",
       "      <td>159663</td>\n",
       "      <td>185803</td>\n",
       "      <td>169841</td>\n",
       "      <td>...</td>\n",
       "      <td>140442</td>\n",
       "      <td>174834</td>\n",
       "      <td>90634</td>\n",
       "      <td>147486</td>\n",
       "      <td>160454</td>\n",
       "      <td>105171</td>\n",
       "      <td>218749</td>\n",
       "      <td>102230</td>\n",
       "      <td>13502</td>\n",
       "      <td>0</td>\n",
       "    </tr>\n",
       "    <tr>\n",
       "      <th>0.0</th>\n",
       "      <td>190308</td>\n",
       "      <td>160391</td>\n",
       "      <td>134835</td>\n",
       "      <td>182525</td>\n",
       "      <td>151841</td>\n",
       "      <td>161430</td>\n",
       "      <td>120001</td>\n",
       "      <td>155852</td>\n",
       "      <td>112665</td>\n",
       "      <td>125034</td>\n",
       "      <td>...</td>\n",
       "      <td>68639</td>\n",
       "      <td>54299</td>\n",
       "      <td>190891</td>\n",
       "      <td>72302</td>\n",
       "      <td>168529</td>\n",
       "      <td>179871</td>\n",
       "      <td>126158</td>\n",
       "      <td>142841</td>\n",
       "      <td>268</td>\n",
       "      <td>0</td>\n",
       "    </tr>\n",
       "    <tr>\n",
       "      <th>1.0</th>\n",
       "      <td>44982</td>\n",
       "      <td>28959</td>\n",
       "      <td>251918</td>\n",
       "      <td>175559</td>\n",
       "      <td>87589</td>\n",
       "      <td>253515</td>\n",
       "      <td>227985</td>\n",
       "      <td>194133</td>\n",
       "      <td>20473</td>\n",
       "      <td>184645</td>\n",
       "      <td>...</td>\n",
       "      <td>223177</td>\n",
       "      <td>233865</td>\n",
       "      <td>269516</td>\n",
       "      <td>36866</td>\n",
       "      <td>68122</td>\n",
       "      <td>117706</td>\n",
       "      <td>81907</td>\n",
       "      <td>61165</td>\n",
       "      <td>23493</td>\n",
       "      <td>0</td>\n",
       "    </tr>\n",
       "    <tr>\n",
       "      <th>1.0</th>\n",
       "      <td>67135</td>\n",
       "      <td>107605</td>\n",
       "      <td>252751</td>\n",
       "      <td>68890</td>\n",
       "      <td>143700</td>\n",
       "      <td>244170</td>\n",
       "      <td>166825</td>\n",
       "      <td>214475</td>\n",
       "      <td>24537</td>\n",
       "      <td>144244</td>\n",
       "      <td>...</td>\n",
       "      <td>108399</td>\n",
       "      <td>136591</td>\n",
       "      <td>60398</td>\n",
       "      <td>13166</td>\n",
       "      <td>253297</td>\n",
       "      <td>96705</td>\n",
       "      <td>191339</td>\n",
       "      <td>195684</td>\n",
       "      <td>11549</td>\n",
       "      <td>0</td>\n",
       "    </tr>\n",
       "    <tr>\n",
       "      <th>2.0</th>\n",
       "      <td>55018</td>\n",
       "      <td>212082</td>\n",
       "      <td>240745</td>\n",
       "      <td>177861</td>\n",
       "      <td>97922</td>\n",
       "      <td>181139</td>\n",
       "      <td>207795</td>\n",
       "      <td>54735</td>\n",
       "      <td>222386</td>\n",
       "      <td>227847</td>\n",
       "      <td>...</td>\n",
       "      <td>143568</td>\n",
       "      <td>236625</td>\n",
       "      <td>79502</td>\n",
       "      <td>163439</td>\n",
       "      <td>94807</td>\n",
       "      <td>232984</td>\n",
       "      <td>235552</td>\n",
       "      <td>255032</td>\n",
       "      <td>6905</td>\n",
       "      <td>0</td>\n",
       "    </tr>\n",
       "  </tbody>\n",
       "</table>\n",
       "<p>5 rows × 30 columns</p>\n",
       "</div>"
      ],
      "text/plain": [
       "          V1      V2      V3      V4      V5      V6      V7      V8      V9  \\\n",
       "Time                                                                           \n",
       "0.0    44928  120599  270851  243083  105668  211710  167150  159663  185803   \n",
       "0.0   190308  160391  134835  182525  151841  161430  120001  155852  112665   \n",
       "1.0    44982   28959  251918  175559   87589  253515  227985  194133   20473   \n",
       "1.0    67135  107605  252751   68890  143700  244170  166825  214475   24537   \n",
       "2.0    55018  212082  240745  177861   97922  181139  207795   54735  222386   \n",
       "\n",
       "         V10  ...     V21     V22     V23     V24     V25     V26     V27  \\\n",
       "Time          ...                                                           \n",
       "0.0   169841  ...  140442  174834   90634  147486  160454  105171  218749   \n",
       "0.0   125034  ...   68639   54299  190891   72302  168529  179871  126158   \n",
       "1.0   184645  ...  223177  233865  269516   36866   68122  117706   81907   \n",
       "1.0   144244  ...  108399  136591   60398   13166  253297   96705  191339   \n",
       "2.0   227847  ...  143568  236625   79502  163439   94807  232984  235552   \n",
       "\n",
       "         V28 Amount Class  \n",
       "Time                       \n",
       "0.0   102230  13502     0  \n",
       "0.0   142841    268     0  \n",
       "1.0    61165  23493     0  \n",
       "1.0   195684  11549     0  \n",
       "2.0   255032   6905     0  \n",
       "\n",
       "[5 rows x 30 columns]"
      ]
     },
     "execution_count": 12,
     "metadata": {},
     "output_type": "execute_result"
    }
   ],
   "source": [
    "dtn=dataNM # Data yang telah dikoding dinamai dtn\n",
    "dtn.head()"
   ]
  },
  {
   "cell_type": "code",
   "execution_count": 13,
   "metadata": {
    "id": "I6dI2PSe3mw2"
   },
   "outputs": [],
   "source": [
    "Datakontinyu=dtn.drop(['V1','V2','V3','V4','V5','V6','V7','V8','V9','V10','V11','V12','V13','V14','V15','V16','V17','V18','V19','V20','V21','V22','V23','V24','V25','V26','V27','V28'], axis=1)\n",
    "Datakategorik=dtn.drop(['Amount','Class'], axis=1)\n",
    "Y=dtn['Class']"
   ]
  },
  {
   "cell_type": "code",
   "execution_count": 14,
   "metadata": {
    "colab": {
     "base_uri": "https://localhost:8080/"
    },
    "id": "XzHvyFIsuGLY",
    "outputId": "adbd0760-41a1-4741-a7b1-7cf0b63ed0db"
   },
   "outputs": [
    {
     "name": "stdout",
     "output_type": "stream",
     "text": [
      "              V1      V2      V3      V4      V5      V6      V7      V8  \\\n",
      "Time                                                                       \n",
      "0.0        44928  120599  270851  243083  105668  211710  167150  159663   \n",
      "0.0       190308  160391  134835  182525  151841  161430  120001  155852   \n",
      "1.0        44982   28959  251918  175559   87589  253515  227985  194133   \n",
      "1.0        67135  107605  252751   68890  143700  244170  166825  214475   \n",
      "2.0        55018  212082  240745  177861   97922  181139  207795   54735   \n",
      "...          ...     ...     ...     ...     ...     ...     ...     ...   \n",
      "172786.0     581  275593     270   16342     836    1621    1093  275525   \n",
      "172787.0   86026  122771  260722   79680  225510  239000  134669  202380   \n",
      "172788.0  236109   96082    5048   97736  268453  261587   95134  244929   \n",
      "172788.0  128561  182906  180282  202324  101185  221246   54711  242910   \n",
      "172792.0  103431  107101  180358  102694  143457   84666  265094   32387   \n",
      "\n",
      "              V9     V10  ...     V19     V20     V21     V22     V23     V24  \\\n",
      "Time                      ...                                                   \n",
      "0.0       185803  169841  ...  199265  228524  140442  174834   90634  147486   \n",
      "0.0       112665  125034  ...  113790  132797   68639   54299  190891   72302   \n",
      "1.0        20473  184645  ...    1783  251790  223177  233865  269516   36866   \n",
      "1.0        24537  144244  ...   17895   70472  108399  136591   60398   13166   \n",
      "2.0       222386  227847  ...  237769  244940  143568  236625   79502  163439   \n",
      "...          ...     ...  ...     ...     ...     ...     ...     ...     ...   \n",
      "172786.0  264372  273915  ...   47305  269094  213818  151931  270386   47379   \n",
      "172787.0  206049   31139  ...    9279  183275  214037  248406  151105   20037   \n",
      "172788.0  192469   75953  ...   56575  162310  218896  211936  125608  238464   \n",
      "172788.0  188614   87321  ...  274633  203621  227498  236791   69699  160730   \n",
      "172792.0  197504   34991  ...   95818  242946  226477  219426  253697  127819   \n",
      "\n",
      "             V25     V26     V27     V28  \n",
      "Time                                      \n",
      "0.0       160454  105171  218749  102230  \n",
      "0.0       168529  179871  126158  142841  \n",
      "1.0        68122  117706   81907   61165  \n",
      "1.0       253297   96705  191339  195684  \n",
      "2.0        94807  232984  235552  255032  \n",
      "...          ...     ...     ...     ...  \n",
      "172786.0  274473  207543  272884  274268  \n",
      "172787.0   28259   54217  194562   68033  \n",
      "172788.0  189774  131236  139638   97284  \n",
      "172788.0   31765  236451  211636  220460  \n",
      "172792.0   43639    7506  132748  141017  \n",
      "\n",
      "[284807 rows x 28 columns]\n"
     ]
    }
   ],
   "source": [
    "print(Datakategorik)"
   ]
  },
  {
   "cell_type": "code",
   "execution_count": 15,
   "metadata": {
    "colab": {
     "base_uri": "https://localhost:8080/"
    },
    "id": "KDTQ03t8vxxf",
    "outputId": "59d6a7fa-02e4-461d-b34f-787f2b42f4a0"
   },
   "outputs": [
    {
     "name": "stdout",
     "output_type": "stream",
     "text": [
      "         Amount Class\n",
      "Time                 \n",
      "0.0       13502     0\n",
      "0.0         268     0\n",
      "1.0       23493     0\n",
      "1.0       11549     0\n",
      "2.0        6905     0\n",
      "...         ...   ...\n",
      "172786.0     76     0\n",
      "172787.0   2478     0\n",
      "172788.0   6706     0\n",
      "172788.0    999     0\n",
      "172792.0  17621     0\n",
      "\n",
      "[284807 rows x 2 columns]\n"
     ]
    }
   ],
   "source": [
    "print(Datakontinyu)"
   ]
  },
  {
   "cell_type": "code",
   "execution_count": 16,
   "metadata": {
    "colab": {
     "base_uri": "https://localhost:8080/",
     "height": 193
    },
    "id": "73Th-2o3v6yA",
    "outputId": "d834ae26-197c-4054-e55a-5cd5a96c3d52"
   },
   "outputs": [
    {
     "data": {
      "text/html": [
       "<div>\n",
       "<style scoped>\n",
       "    .dataframe tbody tr th:only-of-type {\n",
       "        vertical-align: middle;\n",
       "    }\n",
       "\n",
       "    .dataframe tbody tr th {\n",
       "        vertical-align: top;\n",
       "    }\n",
       "\n",
       "    .dataframe thead th {\n",
       "        text-align: right;\n",
       "    }\n",
       "</style>\n",
       "<table border=\"1\" class=\"dataframe\">\n",
       "  <thead>\n",
       "    <tr style=\"text-align: right;\">\n",
       "      <th></th>\n",
       "      <th>V1</th>\n",
       "      <th>V2</th>\n",
       "      <th>V3</th>\n",
       "      <th>V4</th>\n",
       "      <th>V5</th>\n",
       "      <th>V6</th>\n",
       "      <th>V7</th>\n",
       "      <th>V8</th>\n",
       "      <th>V9</th>\n",
       "      <th>V10</th>\n",
       "      <th>...</th>\n",
       "      <th>V21</th>\n",
       "      <th>V22</th>\n",
       "      <th>V23</th>\n",
       "      <th>V24</th>\n",
       "      <th>V25</th>\n",
       "      <th>V26</th>\n",
       "      <th>V27</th>\n",
       "      <th>V28</th>\n",
       "      <th>Amount</th>\n",
       "      <th>Class</th>\n",
       "    </tr>\n",
       "  </thead>\n",
       "  <tbody>\n",
       "    <tr>\n",
       "      <th>count</th>\n",
       "      <td>284807</td>\n",
       "      <td>284807</td>\n",
       "      <td>284807</td>\n",
       "      <td>284807</td>\n",
       "      <td>284807</td>\n",
       "      <td>284807</td>\n",
       "      <td>284807</td>\n",
       "      <td>284807</td>\n",
       "      <td>284807</td>\n",
       "      <td>284807</td>\n",
       "      <td>...</td>\n",
       "      <td>284807</td>\n",
       "      <td>284807</td>\n",
       "      <td>284807</td>\n",
       "      <td>284807</td>\n",
       "      <td>284807</td>\n",
       "      <td>284807</td>\n",
       "      <td>284807</td>\n",
       "      <td>284807</td>\n",
       "      <td>284807</td>\n",
       "      <td>284807</td>\n",
       "    </tr>\n",
       "    <tr>\n",
       "      <th>unique</th>\n",
       "      <td>275663</td>\n",
       "      <td>275663</td>\n",
       "      <td>275663</td>\n",
       "      <td>275663</td>\n",
       "      <td>275663</td>\n",
       "      <td>275663</td>\n",
       "      <td>275663</td>\n",
       "      <td>275663</td>\n",
       "      <td>275663</td>\n",
       "      <td>275663</td>\n",
       "      <td>...</td>\n",
       "      <td>275663</td>\n",
       "      <td>275663</td>\n",
       "      <td>275663</td>\n",
       "      <td>275663</td>\n",
       "      <td>275663</td>\n",
       "      <td>275663</td>\n",
       "      <td>275663</td>\n",
       "      <td>275663</td>\n",
       "      <td>32767</td>\n",
       "      <td>2</td>\n",
       "    </tr>\n",
       "    <tr>\n",
       "      <th>top</th>\n",
       "      <td>257724</td>\n",
       "      <td>93742</td>\n",
       "      <td>162863</td>\n",
       "      <td>70490</td>\n",
       "      <td>81568</td>\n",
       "      <td>263143</td>\n",
       "      <td>133226</td>\n",
       "      <td>82008</td>\n",
       "      <td>208000</td>\n",
       "      <td>140702</td>\n",
       "      <td>...</td>\n",
       "      <td>55749</td>\n",
       "      <td>32424</td>\n",
       "      <td>205011</td>\n",
       "      <td>252171</td>\n",
       "      <td>172612</td>\n",
       "      <td>170318</td>\n",
       "      <td>162634</td>\n",
       "      <td>149445</td>\n",
       "      <td>99</td>\n",
       "      <td>0</td>\n",
       "    </tr>\n",
       "    <tr>\n",
       "      <th>freq</th>\n",
       "      <td>77</td>\n",
       "      <td>77</td>\n",
       "      <td>77</td>\n",
       "      <td>77</td>\n",
       "      <td>77</td>\n",
       "      <td>77</td>\n",
       "      <td>77</td>\n",
       "      <td>77</td>\n",
       "      <td>77</td>\n",
       "      <td>77</td>\n",
       "      <td>...</td>\n",
       "      <td>77</td>\n",
       "      <td>77</td>\n",
       "      <td>77</td>\n",
       "      <td>77</td>\n",
       "      <td>77</td>\n",
       "      <td>77</td>\n",
       "      <td>77</td>\n",
       "      <td>77</td>\n",
       "      <td>13688</td>\n",
       "      <td>284315</td>\n",
       "    </tr>\n",
       "  </tbody>\n",
       "</table>\n",
       "<p>4 rows × 30 columns</p>\n",
       "</div>"
      ],
      "text/plain": [
       "            V1      V2      V3      V4      V5      V6      V7      V8  \\\n",
       "count   284807  284807  284807  284807  284807  284807  284807  284807   \n",
       "unique  275663  275663  275663  275663  275663  275663  275663  275663   \n",
       "top     257724   93742  162863   70490   81568  263143  133226   82008   \n",
       "freq        77      77      77      77      77      77      77      77   \n",
       "\n",
       "            V9     V10  ...     V21     V22     V23     V24     V25     V26  \\\n",
       "count   284807  284807  ...  284807  284807  284807  284807  284807  284807   \n",
       "unique  275663  275663  ...  275663  275663  275663  275663  275663  275663   \n",
       "top     208000  140702  ...   55749   32424  205011  252171  172612  170318   \n",
       "freq        77      77  ...      77      77      77      77      77      77   \n",
       "\n",
       "           V27     V28  Amount   Class  \n",
       "count   284807  284807  284807  284807  \n",
       "unique  275663  275663   32767       2  \n",
       "top     162634  149445      99       0  \n",
       "freq        77      77   13688  284315  \n",
       "\n",
       "[4 rows x 30 columns]"
      ]
     },
     "execution_count": 16,
     "metadata": {},
     "output_type": "execute_result"
    }
   ],
   "source": [
    "dtn.describe()"
   ]
  },
  {
   "cell_type": "code",
   "execution_count": 17,
   "metadata": {
    "id": "Uffc7-bXxUcE"
   },
   "outputs": [],
   "source": [
    "import seaborn as sns\n",
    "import matplotlib.pyplot as plt\n",
    "%matplotlib inline"
   ]
  },
  {
   "cell_type": "code",
   "execution_count": 18,
   "metadata": {
    "colab": {
     "base_uri": "https://localhost:8080/",
     "height": 454
    },
    "id": "hvMtSTUrzdRI",
    "outputId": "fbfa982d-ebda-4ef8-afbb-0dcd10775383"
   },
   "outputs": [
    {
     "data": {
      "image/png": "[encoded data removed]",
      "text/plain": [
       "<Figure size 1080x576 with 2 Axes>"
      ]
     },
     "metadata": {
      "needs_background": "light"
     },
     "output_type": "display_data"
    }
   ],
   "source": [
    "X_scaled=preprocessing.normalize(Datakontinyu)\n",
    "X_scaled=pd.DataFrame(X_scaled,columns=['Amount','Class'])\n",
    "sns.heatmap(X_scaled.corr(),linewidth=0.5,annot=True,cmap='RdYlGn')\n",
    "fig = plt.gcf()\n",
    "fig.set_size_inches(15,8)\n",
    "plt.title(\"Correlation between Columns of dataFrame\",y=1.08)\n",
    "plt.show()"
   ]
  },
  {
   "cell_type": "code",
   "execution_count": 19,
   "metadata": {
    "colab": {
     "base_uri": "https://localhost:8080/",
     "height": 32
    },
    "id": "zmcMi4wb1YJZ",
    "outputId": "128c0532-fa55-4608-cf36-6dc981c6e7e1"
   },
   "outputs": [
    {
     "data": {
      "text/html": [
       "<div>\n",
       "<style scoped>\n",
       "    .dataframe tbody tr th:only-of-type {\n",
       "        vertical-align: middle;\n",
       "    }\n",
       "\n",
       "    .dataframe tbody tr th {\n",
       "        vertical-align: top;\n",
       "    }\n",
       "\n",
       "    .dataframe thead th {\n",
       "        text-align: right;\n",
       "    }\n",
       "</style>\n",
       "<table border=\"1\" class=\"dataframe\">\n",
       "  <thead>\n",
       "    <tr style=\"text-align: right;\">\n",
       "      <th></th>\n",
       "    </tr>\n",
       "  </thead>\n",
       "  <tbody>\n",
       "  </tbody>\n",
       "</table>\n",
       "</div>"
      ],
      "text/plain": [
       "Empty DataFrame\n",
       "Columns: []\n",
       "Index: []"
      ]
     },
     "execution_count": 19,
     "metadata": {},
     "output_type": "execute_result"
    }
   ],
   "source": [
    "correlations = Datakontinyu.corr() \n",
    "correlations"
   ]
  },
  {
   "cell_type": "code",
   "execution_count": 20,
   "metadata": {
    "colab": {
     "base_uri": "https://localhost:8080/",
     "height": 987
    },
    "id": "qazIJN7M2O7p",
    "outputId": "af0b7d17-9c5d-4420-e402-ca58cd37babe"
   },
   "outputs": [],
   "source": [
    "# f,ax = plt.subplots(figsize=(10, 10))\n",
    "# sns.heatmap(correlations, annot=True, linewidths=.5, fmt= '.1f',ax=ax)\n",
    "# plt.title(\"Correlation between Columns of dataFrame\",y=1.08)\n",
    "# plt.show()"
   ]
  },
  {
   "cell_type": "code",
   "execution_count": 21,
   "metadata": {
    "colab": {
     "base_uri": "https://localhost:8080/"
    },
    "id": "VEQIHuTpGcjY",
    "outputId": "34fc05ee-734b-4454-9d94-366135af05ba"
   },
   "outputs": [
    {
     "data": {
      "text/plain": [
       "0    284315\n",
       "1       492\n",
       "Name: Class, dtype: int64"
      ]
     },
     "execution_count": 21,
     "metadata": {},
     "output_type": "execute_result"
    }
   ],
   "source": [
    "dtn['Class'].value_counts()"
   ]
  },
  {
   "cell_type": "code",
   "execution_count": 22,
   "metadata": {
    "colab": {
     "base_uri": "https://localhost:8080/",
     "height": 423
    },
    "id": "-jt5XTSyH9rO",
    "outputId": "73ef41fa-a466-4cbc-a7db-c0ff36dd57d4"
   },
   "outputs": [
    {
     "name": "stderr",
     "output_type": "stream",
     "text": [
      "c:\\users\\galang\\appdata\\local\\programs\\python\\python37\\lib\\site-packages\\seaborn\\_decorators.py:43: FutureWarning: Pass the following variable as a keyword arg: x. From version 0.12, the only valid positional argument will be `data`, and passing other arguments without an explicit keyword will result in an error or misinterpretation.\n",
      "  FutureWarning\n"
     ]
    },
    {
     "data": {
      "image/png": "[encoded data removed]",
      "text/plain": [
       "<Figure size 1296x576 with 2 Axes>"
      ]
     },
     "metadata": {
      "needs_background": "light"
     },
     "output_type": "display_data"
    }
   ],
   "source": [
    "f,ax=plt.subplots(1,2,figsize=(18,8))\n",
    "dtn['Class'].value_counts().plot.pie(explode=[0,0.1],autopct='%1.1f%%',ax=ax[0],shadow=True)\n",
    "ax[0].set_title('Class')\n",
    "ax[0].set_ylabel('')\n",
    "sns.countplot('Class',data=dtn,ax=ax[1])\n",
    "ax[1].set_title('Class')\n",
    "plt.show()"
   ]
  },
  {
   "cell_type": "code",
   "execution_count": 23,
   "metadata": {
    "id": "PXueaLGqIHG_"
   },
   "outputs": [],
   "source": [
    "import matplotlib.pyplot as plt\n",
    "from sklearn.datasets import make_classification\n",
    "from sklearn.ensemble import ExtraTreesClassifier\n",
    "from sklearn.feature_selection import SelectFromModel\n",
    "from sklearn.ensemble import ExtraTreesClassifier"
   ]
  },
  {
   "cell_type": "code",
   "execution_count": 24,
   "metadata": {
    "colab": {
     "base_uri": "https://localhost:8080/",
     "height": 255
    },
    "id": "31swGqeQIQtV",
    "outputId": "02b51772-2b6f-448b-d002-d238db8f3169",
    "scrolled": false
   },
   "outputs": [
    {
     "data": {
      "text/html": [
       "<div>\n",
       "<style scoped>\n",
       "    .dataframe tbody tr th:only-of-type {\n",
       "        vertical-align: middle;\n",
       "    }\n",
       "\n",
       "    .dataframe tbody tr th {\n",
       "        vertical-align: top;\n",
       "    }\n",
       "\n",
       "    .dataframe thead th {\n",
       "        text-align: right;\n",
       "    }\n",
       "</style>\n",
       "<table border=\"1\" class=\"dataframe\">\n",
       "  <thead>\n",
       "    <tr style=\"text-align: right;\">\n",
       "      <th></th>\n",
       "      <th>V1</th>\n",
       "      <th>V2</th>\n",
       "      <th>V3</th>\n",
       "      <th>V4</th>\n",
       "      <th>V5</th>\n",
       "      <th>V6</th>\n",
       "      <th>V7</th>\n",
       "      <th>V8</th>\n",
       "      <th>V9</th>\n",
       "      <th>V10</th>\n",
       "      <th>...</th>\n",
       "      <th>V20</th>\n",
       "      <th>V21</th>\n",
       "      <th>V22</th>\n",
       "      <th>V23</th>\n",
       "      <th>V24</th>\n",
       "      <th>V25</th>\n",
       "      <th>V26</th>\n",
       "      <th>V27</th>\n",
       "      <th>V28</th>\n",
       "      <th>Amount</th>\n",
       "    </tr>\n",
       "    <tr>\n",
       "      <th>Time</th>\n",
       "      <th></th>\n",
       "      <th></th>\n",
       "      <th></th>\n",
       "      <th></th>\n",
       "      <th></th>\n",
       "      <th></th>\n",
       "      <th></th>\n",
       "      <th></th>\n",
       "      <th></th>\n",
       "      <th></th>\n",
       "      <th></th>\n",
       "      <th></th>\n",
       "      <th></th>\n",
       "      <th></th>\n",
       "      <th></th>\n",
       "      <th></th>\n",
       "      <th></th>\n",
       "      <th></th>\n",
       "      <th></th>\n",
       "      <th></th>\n",
       "      <th></th>\n",
       "    </tr>\n",
       "  </thead>\n",
       "  <tbody>\n",
       "    <tr>\n",
       "      <th>0.0</th>\n",
       "      <td>44928</td>\n",
       "      <td>120599</td>\n",
       "      <td>270851</td>\n",
       "      <td>243083</td>\n",
       "      <td>105668</td>\n",
       "      <td>211710</td>\n",
       "      <td>167150</td>\n",
       "      <td>159663</td>\n",
       "      <td>185803</td>\n",
       "      <td>169841</td>\n",
       "      <td>...</td>\n",
       "      <td>228524</td>\n",
       "      <td>140442</td>\n",
       "      <td>174834</td>\n",
       "      <td>90634</td>\n",
       "      <td>147486</td>\n",
       "      <td>160454</td>\n",
       "      <td>105171</td>\n",
       "      <td>218749</td>\n",
       "      <td>102230</td>\n",
       "      <td>13502</td>\n",
       "    </tr>\n",
       "    <tr>\n",
       "      <th>0.0</th>\n",
       "      <td>190308</td>\n",
       "      <td>160391</td>\n",
       "      <td>134835</td>\n",
       "      <td>182525</td>\n",
       "      <td>151841</td>\n",
       "      <td>161430</td>\n",
       "      <td>120001</td>\n",
       "      <td>155852</td>\n",
       "      <td>112665</td>\n",
       "      <td>125034</td>\n",
       "      <td>...</td>\n",
       "      <td>132797</td>\n",
       "      <td>68639</td>\n",
       "      <td>54299</td>\n",
       "      <td>190891</td>\n",
       "      <td>72302</td>\n",
       "      <td>168529</td>\n",
       "      <td>179871</td>\n",
       "      <td>126158</td>\n",
       "      <td>142841</td>\n",
       "      <td>268</td>\n",
       "    </tr>\n",
       "    <tr>\n",
       "      <th>1.0</th>\n",
       "      <td>44982</td>\n",
       "      <td>28959</td>\n",
       "      <td>251918</td>\n",
       "      <td>175559</td>\n",
       "      <td>87589</td>\n",
       "      <td>253515</td>\n",
       "      <td>227985</td>\n",
       "      <td>194133</td>\n",
       "      <td>20473</td>\n",
       "      <td>184645</td>\n",
       "      <td>...</td>\n",
       "      <td>251790</td>\n",
       "      <td>223177</td>\n",
       "      <td>233865</td>\n",
       "      <td>269516</td>\n",
       "      <td>36866</td>\n",
       "      <td>68122</td>\n",
       "      <td>117706</td>\n",
       "      <td>81907</td>\n",
       "      <td>61165</td>\n",
       "      <td>23493</td>\n",
       "    </tr>\n",
       "    <tr>\n",
       "      <th>1.0</th>\n",
       "      <td>67135</td>\n",
       "      <td>107605</td>\n",
       "      <td>252751</td>\n",
       "      <td>68890</td>\n",
       "      <td>143700</td>\n",
       "      <td>244170</td>\n",
       "      <td>166825</td>\n",
       "      <td>214475</td>\n",
       "      <td>24537</td>\n",
       "      <td>144244</td>\n",
       "      <td>...</td>\n",
       "      <td>70472</td>\n",
       "      <td>108399</td>\n",
       "      <td>136591</td>\n",
       "      <td>60398</td>\n",
       "      <td>13166</td>\n",
       "      <td>253297</td>\n",
       "      <td>96705</td>\n",
       "      <td>191339</td>\n",
       "      <td>195684</td>\n",
       "      <td>11549</td>\n",
       "    </tr>\n",
       "    <tr>\n",
       "      <th>2.0</th>\n",
       "      <td>55018</td>\n",
       "      <td>212082</td>\n",
       "      <td>240745</td>\n",
       "      <td>177861</td>\n",
       "      <td>97922</td>\n",
       "      <td>181139</td>\n",
       "      <td>207795</td>\n",
       "      <td>54735</td>\n",
       "      <td>222386</td>\n",
       "      <td>227847</td>\n",
       "      <td>...</td>\n",
       "      <td>244940</td>\n",
       "      <td>143568</td>\n",
       "      <td>236625</td>\n",
       "      <td>79502</td>\n",
       "      <td>163439</td>\n",
       "      <td>94807</td>\n",
       "      <td>232984</td>\n",
       "      <td>235552</td>\n",
       "      <td>255032</td>\n",
       "      <td>6905</td>\n",
       "    </tr>\n",
       "  </tbody>\n",
       "</table>\n",
       "<p>5 rows × 29 columns</p>\n",
       "</div>"
      ],
      "text/plain": [
       "          V1      V2      V3      V4      V5      V6      V7      V8      V9  \\\n",
       "Time                                                                           \n",
       "0.0    44928  120599  270851  243083  105668  211710  167150  159663  185803   \n",
       "0.0   190308  160391  134835  182525  151841  161430  120001  155852  112665   \n",
       "1.0    44982   28959  251918  175559   87589  253515  227985  194133   20473   \n",
       "1.0    67135  107605  252751   68890  143700  244170  166825  214475   24537   \n",
       "2.0    55018  212082  240745  177861   97922  181139  207795   54735  222386   \n",
       "\n",
       "         V10  ...     V20     V21     V22     V23     V24     V25     V26  \\\n",
       "Time          ...                                                           \n",
       "0.0   169841  ...  228524  140442  174834   90634  147486  160454  105171   \n",
       "0.0   125034  ...  132797   68639   54299  190891   72302  168529  179871   \n",
       "1.0   184645  ...  251790  223177  233865  269516   36866   68122  117706   \n",
       "1.0   144244  ...   70472  108399  136591   60398   13166  253297   96705   \n",
       "2.0   227847  ...  244940  143568  236625   79502  163439   94807  232984   \n",
       "\n",
       "         V27     V28 Amount  \n",
       "Time                         \n",
       "0.0   218749  102230  13502  \n",
       "0.0   126158  142841    268  \n",
       "1.0    81907   61165  23493  \n",
       "1.0   191339  195684  11549  \n",
       "2.0   235552  255032   6905  \n",
       "\n",
       "[5 rows x 29 columns]"
      ]
     },
     "execution_count": 24,
     "metadata": {},
     "output_type": "execute_result"
    }
   ],
   "source": [
    "y = dtn['Class']\n",
    "x = dtn.drop(['Class'], axis=1)\n",
    "x.head()"
   ]
  },
  {
   "cell_type": "code",
   "execution_count": 25,
   "metadata": {
    "id": "4vKM3FG6IViO"
   },
   "outputs": [],
   "source": [
    "clf = ExtraTreesClassifier(n_estimators=550,\n",
    "                          random_state=123)\n",
    "clf = clf.fit(x,y)"
   ]
  },
  {
   "cell_type": "code",
   "execution_count": 26,
   "metadata": {
    "id": "Z9xjoh_0Ibtf"
   },
   "outputs": [],
   "source": [
    "importances = clf.feature_importances_"
   ]
  },
  {
   "cell_type": "code",
   "execution_count": 27,
   "metadata": {
    "id": "JdJhShDaJSgM"
   },
   "outputs": [],
   "source": [
    "std = np.std([tree.feature_importances_ for tree in clf.estimators_], axis=0)\n",
    "indices = np.argsort(importances)[::-1]"
   ]
  },
  {
   "cell_type": "code",
   "execution_count": 28,
   "metadata": {
    "id": "nSp-B740JVaP"
   },
   "outputs": [],
   "source": [
    "model = SelectFromModel(clf, prefit=True)"
   ]
  },
  {
   "cell_type": "code",
   "execution_count": 69,
   "metadata": {
    "colab": {
     "base_uri": "https://localhost:8080/"
    },
    "id": "2dHvgBBLJXjz",
    "outputId": "0098fe72-113f-474c-ddad-10d43f84d469"
   },
   "outputs": [
    {
     "ename": "AttributeError",
     "evalue": "'numpy.ndarray' object has no attribute 'head'",
     "output_type": "error",
     "traceback": [
      "\u001b[1;31m---------------------------------------------------------------------------\u001b[0m",
      "\u001b[1;31mAttributeError\u001b[0m                            Traceback (most recent call last)",
      "\u001b[1;32m<ipython-input-69-66bf6ec8c696>\u001b[0m in \u001b[0;36m<module>\u001b[1;34m\u001b[0m\n\u001b[0;32m      1\u001b[0m \u001b[0mx_new\u001b[0m \u001b[1;33m=\u001b[0m \u001b[0mmodel\u001b[0m\u001b[1;33m.\u001b[0m\u001b[0mtransform\u001b[0m\u001b[1;33m(\u001b[0m\u001b[0mx\u001b[0m\u001b[1;33m)\u001b[0m\u001b[1;33m\u001b[0m\u001b[1;33m\u001b[0m\u001b[0m\n\u001b[0;32m      2\u001b[0m \u001b[0mx_new\u001b[0m\u001b[1;33m.\u001b[0m\u001b[0mshape\u001b[0m\u001b[1;33m\u001b[0m\u001b[1;33m\u001b[0m\u001b[0m\n\u001b[1;32m----> 3\u001b[1;33m \u001b[0mx_new\u001b[0m\u001b[1;33m.\u001b[0m\u001b[0mhead\u001b[0m\u001b[1;33m\u001b[0m\u001b[1;33m\u001b[0m\u001b[0m\n\u001b[0m",
      "\u001b[1;31mAttributeError\u001b[0m: 'numpy.ndarray' object has no attribute 'head'"
     ]
    }
   ],
   "source": [
    "x_new = model.transform(x)\n",
    "x_new.shape"
   ]
  },
  {
   "cell_type": "code",
   "execution_count": 30,
   "metadata": {
    "colab": {
     "base_uri": "https://localhost:8080/"
    },
    "id": "j-piBEniJZk-",
    "outputId": "56277b47-c646-4a7c-9a08-293766ffdc51",
    "scrolled": true
   },
   "outputs": [
    {
     "name": "stdout",
     "output_type": "stream",
     "text": [
      "Feature ranking\n",
      "1. feature 16 (0.104218)\n",
      "2. feature 9 (0.073737)\n",
      "3. feature 15 (0.070359)\n",
      "4. feature 13 (0.069101)\n",
      "5. feature 11 (0.067251)\n",
      "6. feature 10 (0.052781)\n",
      "7. feature 6 (0.051667)\n",
      "8. feature 3 (0.050746)\n",
      "9. feature 8 (0.047004)\n",
      "10. feature 2 (0.043331)\n",
      "11. feature 17 (0.039525)\n"
     ]
    }
   ],
   "source": [
    "# Print the feature ranking\n",
    "print(\"Feature ranking\")\n",
    "\n",
    "for f in range(x_new.shape[1]):\n",
    "    print(\"%d. feature %d (%f)\" % (f + 1, indices[f], importances[indices[f]]))"
   ]
  },
  {
   "cell_type": "code",
   "execution_count": 85,
   "metadata": {
    "id": "_V7ZjgeRJeI-"
   },
   "outputs": [],
   "source": [
    "yb = dtn['Class']\n",
    "xb = dtn.drop(['V1','V2','V5','V6','V7','V13','V15','V19','V20','V21','V22','V23','V24','V25','V26','V27','V28'], axis=1)"
   ]
  },
  {
   "cell_type": "code",
   "execution_count": 86,
   "metadata": {
    "colab": {
     "base_uri": "https://localhost:8080/",
     "height": 255
    },
    "id": "_Bw-WPK_NO6Q",
    "outputId": "05551676-a02c-49cb-c255-8f2cff1dded8"
   },
   "outputs": [
    {
     "data": {
      "text/html": [
       "<div>\n",
       "<style scoped>\n",
       "    .dataframe tbody tr th:only-of-type {\n",
       "        vertical-align: middle;\n",
       "    }\n",
       "\n",
       "    .dataframe tbody tr th {\n",
       "        vertical-align: top;\n",
       "    }\n",
       "\n",
       "    .dataframe thead th {\n",
       "        text-align: right;\n",
       "    }\n",
       "</style>\n",
       "<table border=\"1\" class=\"dataframe\">\n",
       "  <thead>\n",
       "    <tr style=\"text-align: right;\">\n",
       "      <th></th>\n",
       "      <th>V3</th>\n",
       "      <th>V4</th>\n",
       "      <th>V8</th>\n",
       "      <th>V9</th>\n",
       "      <th>V10</th>\n",
       "      <th>V11</th>\n",
       "      <th>V12</th>\n",
       "      <th>V14</th>\n",
       "      <th>V16</th>\n",
       "      <th>V17</th>\n",
       "      <th>V18</th>\n",
       "      <th>Amount</th>\n",
       "      <th>Class</th>\n",
       "    </tr>\n",
       "    <tr>\n",
       "      <th>Time</th>\n",
       "      <th></th>\n",
       "      <th></th>\n",
       "      <th></th>\n",
       "      <th></th>\n",
       "      <th></th>\n",
       "      <th></th>\n",
       "      <th></th>\n",
       "      <th></th>\n",
       "      <th></th>\n",
       "      <th></th>\n",
       "      <th></th>\n",
       "      <th></th>\n",
       "      <th></th>\n",
       "    </tr>\n",
       "  </thead>\n",
       "  <tbody>\n",
       "    <tr>\n",
       "      <th>0.0</th>\n",
       "      <td>270851</td>\n",
       "      <td>243083</td>\n",
       "      <td>159663</td>\n",
       "      <td>185803</td>\n",
       "      <td>169841</td>\n",
       "      <td>89285</td>\n",
       "      <td>52456</td>\n",
       "      <td>83003</td>\n",
       "      <td>69684</td>\n",
       "      <td>180407</td>\n",
       "      <td>141540</td>\n",
       "      <td>13502</td>\n",
       "      <td>0</td>\n",
       "    </tr>\n",
       "    <tr>\n",
       "      <th>0.0</th>\n",
       "      <td>134835</td>\n",
       "      <td>182525</td>\n",
       "      <td>155852</td>\n",
       "      <td>112665</td>\n",
       "      <td>125034</td>\n",
       "      <td>262015</td>\n",
       "      <td>251738</td>\n",
       "      <td>106666</td>\n",
       "      <td>198499</td>\n",
       "      <td>129314</td>\n",
       "      <td>110148</td>\n",
       "      <td>268</td>\n",
       "      <td>0</td>\n",
       "    </tr>\n",
       "    <tr>\n",
       "      <th>1.0</th>\n",
       "      <td>251918</td>\n",
       "      <td>175559</td>\n",
       "      <td>194133</td>\n",
       "      <td>20473</td>\n",
       "      <td>184645</td>\n",
       "      <td>197359</td>\n",
       "      <td>128132</td>\n",
       "      <td>103313</td>\n",
       "      <td>1054</td>\n",
       "      <td>256988</td>\n",
       "      <td>119366</td>\n",
       "      <td>23493</td>\n",
       "      <td>0</td>\n",
       "    </tr>\n",
       "    <tr>\n",
       "      <th>1.0</th>\n",
       "      <td>252751</td>\n",
       "      <td>68890</td>\n",
       "      <td>214475</td>\n",
       "      <td>24537</td>\n",
       "      <td>144244</td>\n",
       "      <td>119840</td>\n",
       "      <td>144365</td>\n",
       "      <td>86069</td>\n",
       "      <td>28188</td>\n",
       "      <td>40820</td>\n",
       "      <td>271794</td>\n",
       "      <td>11549</td>\n",
       "      <td>0</td>\n",
       "    </tr>\n",
       "    <tr>\n",
       "      <th>2.0</th>\n",
       "      <td>240745</td>\n",
       "      <td>177861</td>\n",
       "      <td>54735</td>\n",
       "      <td>222386</td>\n",
       "      <td>227847</td>\n",
       "      <td>64399</td>\n",
       "      <td>196504</td>\n",
       "      <td>22796</td>\n",
       "      <td>71701</td>\n",
       "      <td>109484</td>\n",
       "      <td>131978</td>\n",
       "      <td>6905</td>\n",
       "      <td>0</td>\n",
       "    </tr>\n",
       "  </tbody>\n",
       "</table>\n",
       "</div>"
      ],
      "text/plain": [
       "          V3      V4      V8      V9     V10     V11     V12     V14     V16  \\\n",
       "Time                                                                           \n",
       "0.0   270851  243083  159663  185803  169841   89285   52456   83003   69684   \n",
       "0.0   134835  182525  155852  112665  125034  262015  251738  106666  198499   \n",
       "1.0   251918  175559  194133   20473  184645  197359  128132  103313    1054   \n",
       "1.0   252751   68890  214475   24537  144244  119840  144365   86069   28188   \n",
       "2.0   240745  177861   54735  222386  227847   64399  196504   22796   71701   \n",
       "\n",
       "         V17     V18 Amount Class  \n",
       "Time                               \n",
       "0.0   180407  141540  13502     0  \n",
       "0.0   129314  110148    268     0  \n",
       "1.0   256988  119366  23493     0  \n",
       "1.0    40820  271794  11549     0  \n",
       "2.0   109484  131978   6905     0  "
      ]
     },
     "execution_count": 86,
     "metadata": {},
     "output_type": "execute_result"
    }
   ],
   "source": [
    "xb.head()"
   ]
  },
  {
   "cell_type": "code",
   "execution_count": 87,
   "metadata": {
    "id": "H8-6LscyNT4c"
   },
   "outputs": [],
   "source": [
    "from sklearn.metrics import confusion_matrix, accuracy_score, precision_score, recall_score, auc, roc_curve\n",
    "from sklearn.model_selection import train_test_split"
   ]
  },
  {
   "cell_type": "code",
   "execution_count": 88,
   "metadata": {
    "id": "emtFJIZtNZQE"
   },
   "outputs": [],
   "source": [
    "Y = yb\n",
    "X = xb"
   ]
  },
  {
   "cell_type": "code",
   "execution_count": 89,
   "metadata": {
    "colab": {
     "base_uri": "https://localhost:8080/"
    },
    "id": "W59C6E7gNbPG",
    "outputId": "24937062-abc6-4fc7-9e51-06f48ccd6451"
   },
   "outputs": [
    {
     "data": {
      "text/plain": [
       "((227845, 13), (227845,))"
      ]
     },
     "execution_count": 89,
     "metadata": {},
     "output_type": "execute_result"
    }
   ],
   "source": [
    "X_train, X_test, Y_train, Y_test = train_test_split(X, Y, test_size=0.20, random_state=5, stratify=Y)\n",
    "X_train.shape, Y_train.shape"
   ]
  },
  {
   "cell_type": "code",
   "execution_count": 90,
   "metadata": {
    "id": "vWu7RsIANdDG"
   },
   "outputs": [],
   "source": [
    "from sklearn import metrics\n",
    "from sklearn.metrics import confusion_matrix"
   ]
  },
  {
   "cell_type": "code",
   "execution_count": 91,
   "metadata": {
    "colab": {
     "base_uri": "https://localhost:8080/"
    },
    "id": "2dCKX0bSNhNw",
    "outputId": "2b9a50f0-4ec2-4b44-f10d-8d5daba528f6"
   },
   "outputs": [],
   "source": [
    "#regresi logistik\n",
    "from statsmodels.api import Logit\n",
    "from statsmodels.tools.tools import add_constant\n",
    "from sklearn.linear_model import LogisticRegression\n",
    "from sklearn.model_selection import train_test_split, cross_val_score"
   ]
  },
  {
   "cell_type": "code",
   "execution_count": 92,
   "metadata": {
    "colab": {
     "base_uri": "https://localhost:8080/"
    },
    "id": "hbjnH6GsNonD",
    "outputId": "a75cb97d-e4bc-4680-91fd-9c5e7714b0f2"
   },
   "outputs": [
    {
     "data": {
      "text/plain": [
       "LogisticRegression()"
      ]
     },
     "execution_count": 92,
     "metadata": {},
     "output_type": "execute_result"
    }
   ],
   "source": [
    "logreg = LogisticRegression(random_state=None)\n",
    "logreg.fit(X_train, Y_train)"
   ]
  },
  {
   "cell_type": "code",
   "execution_count": 93,
   "metadata": {
    "colab": {
     "base_uri": "https://localhost:8080/",
     "height": 111
    },
    "id": "sobB0SdrNrPF",
    "outputId": "3b95d999-4655-4968-d411-4aef7327b362"
   },
   "outputs": [
    {
     "data": {
      "text/html": [
       "<div>\n",
       "<style scoped>\n",
       "    .dataframe tbody tr th:only-of-type {\n",
       "        vertical-align: middle;\n",
       "    }\n",
       "\n",
       "    .dataframe tbody tr th {\n",
       "        vertical-align: top;\n",
       "    }\n",
       "\n",
       "    .dataframe thead th {\n",
       "        text-align: right;\n",
       "    }\n",
       "</style>\n",
       "<table border=\"1\" class=\"dataframe\">\n",
       "  <thead>\n",
       "    <tr style=\"text-align: right;\">\n",
       "      <th></th>\n",
       "      <th>0</th>\n",
       "      <th>1</th>\n",
       "    </tr>\n",
       "  </thead>\n",
       "  <tbody>\n",
       "    <tr>\n",
       "      <th>True 0</th>\n",
       "      <td>56854</td>\n",
       "      <td>10</td>\n",
       "    </tr>\n",
       "    <tr>\n",
       "      <th>True 1</th>\n",
       "      <td>26</td>\n",
       "      <td>72</td>\n",
       "    </tr>\n",
       "  </tbody>\n",
       "</table>\n",
       "</div>"
      ],
      "text/plain": [
       "            0   1\n",
       "True 0  56854  10\n",
       "True 1     26  72"
      ]
     },
     "execution_count": 93,
     "metadata": {},
     "output_type": "execute_result"
    }
   ],
   "source": [
    "ylogistic_predict=logreg.predict(X_test)\n",
    "pd.DataFrame(\n",
    "                confusion_matrix(Y_test, ylogistic_predict),\n",
    "                columns=['0','1'],\n",
    "                index=['True 0','True 1'])"
   ]
  },
  {
   "cell_type": "code",
   "execution_count": 94,
   "metadata": {
    "colab": {
     "base_uri": "https://localhost:8080/"
    },
    "id": "7dwp0uqXNw3V",
    "outputId": "3632dbce-2412-4080-fb5a-83cdcb9a4af7"
   },
   "outputs": [
    {
     "name": "stdout",
     "output_type": "stream",
     "text": [
      "Accuracy :  0.9993679997191109\n",
      "Sensitivity :  0.9998241418120428\n",
      "Specificity :  0.7346938775510204\n"
     ]
    }
   ],
   "source": [
    "cm1 = confusion_matrix(Y_test, ylogistic_predict)\n",
    "total1=sum(sum(cm1))\n",
    "#####from confusion matrix calculate accuracy\n",
    "accuracy1=(cm1[0,0]+cm1[1,1])/total1\n",
    "print ('Accuracy : ', accuracy1)\n",
    "\n",
    "sensitivity1 = cm1[0,0]/(cm1[0,0]+cm1[0,1])\n",
    "print('Sensitivity : ', sensitivity1 )\n",
    "\n",
    "specificity1 = cm1[1,1]/(cm1[1,0]+cm1[1,1])\n",
    "print('Specificity : ', specificity1)"
   ]
  },
  {
   "cell_type": "code",
   "execution_count": 81,
   "metadata": {
    "id": "g7JLQom5N05N"
   },
   "outputs": [],
   "source": [
    "#knn\n",
    "from sklearn.neighbors import KNeighborsClassifier"
   ]
  },
  {
   "cell_type": "code",
   "execution_count": 82,
   "metadata": {
    "id": "0J9Zx94JSZOr"
   },
   "outputs": [],
   "source": [
    "knn = KNeighborsClassifier(n_neighbors=5, weights='uniform')"
   ]
  },
  {
   "cell_type": "code",
   "execution_count": 83,
   "metadata": {
    "colab": {
     "base_uri": "https://localhost:8080/"
    },
    "id": "9kRQ2dUBSa9S",
    "outputId": "4b088993-430a-4a73-abd9-0b137e03988b"
   },
   "outputs": [
    {
     "data": {
      "text/plain": [
       "KNeighborsClassifier()"
      ]
     },
     "execution_count": 83,
     "metadata": {},
     "output_type": "execute_result"
    }
   ],
   "source": [
    "knn.fit(X_train, Y_train)"
   ]
  },
  {
   "cell_type": "code",
   "execution_count": 84,
   "metadata": {
    "colab": {
     "base_uri": "https://localhost:8080/"
    },
    "id": "WXN0-4KWSe6I",
    "outputId": "fc8151df-802c-4275-84df-fd3e54899b84"
   },
   "outputs": [
    {
     "data": {
      "text/plain": [
       "0.9994689372160899"
      ]
     },
     "execution_count": 84,
     "metadata": {},
     "output_type": "execute_result"
    }
   ],
   "source": [
    "knn.score(X_train, Y_train)"
   ]
  },
  {
   "cell_type": "code",
   "execution_count": 46,
   "metadata": {
    "id": "zijDBpaESjKS"
   },
   "outputs": [],
   "source": [
    "y_predict = knn.predict(X_test)"
   ]
  },
  {
   "cell_type": "code",
   "execution_count": 47,
   "metadata": {
    "id": "CnpYHc4OTp4a"
   },
   "outputs": [],
   "source": [
    "from sklearn.metrics import confusion_matrix, accuracy_score"
   ]
  },
  {
   "cell_type": "code",
   "execution_count": 48,
   "metadata": {
    "colab": {
     "base_uri": "https://localhost:8080/"
    },
    "id": "8uRSWMjeTuSC",
    "outputId": "e15c6218-fe6f-443e-cb5b-e222642e3396"
   },
   "outputs": [
    {
     "name": "stdout",
     "output_type": "stream",
     "text": [
      "[[56862     2]\n",
      " [   24    74]]\n"
     ]
    }
   ],
   "source": [
    "conf_matrix = confusion_matrix(Y_test, y_predict)\n",
    "print(conf_matrix)"
   ]
  },
  {
   "cell_type": "code",
   "execution_count": 52,
   "metadata": {},
   "outputs": [
    {
     "name": "stdout",
     "output_type": "stream",
     "text": [
      "0.9995435553526912\n",
      "0.9736842105263158\n",
      "0.7551020408163265\n",
      "0.8505747126436782\n"
     ]
    }
   ],
   "source": [
    "from sklearn import metrics\n",
    "print(metrics.accuracy_score(Y_test, y_predict))\n",
    "print(metrics.precision_score(Y_test, y_predict))\n",
    "print(metrics.recall_score(Y_test, y_predict))\n",
    "print(metrics.f1_score(Y_test, y_predict))"
   ]
  },
  {
   "cell_type": "code",
   "execution_count": 53,
   "metadata": {
    "id": "OsNr7LrPTwYO"
   },
   "outputs": [],
   "source": [
    "Class= dtn['Class'].unique()\n",
    "conf_matrix_df = pd.DataFrame(data=conf_matrix, columns=Class, index=Class)"
   ]
  },
  {
   "cell_type": "code",
   "execution_count": 54,
   "metadata": {
    "colab": {
     "base_uri": "https://localhost:8080/",
     "height": 111
    },
    "id": "PudHoqtiTz4k",
    "outputId": "aeaf4fc1-fbe2-4adb-a501-3c67e4196ff1"
   },
   "outputs": [
    {
     "data": {
      "text/html": [
       "<div>\n",
       "<style scoped>\n",
       "    .dataframe tbody tr th:only-of-type {\n",
       "        vertical-align: middle;\n",
       "    }\n",
       "\n",
       "    .dataframe tbody tr th {\n",
       "        vertical-align: top;\n",
       "    }\n",
       "\n",
       "    .dataframe thead th {\n",
       "        text-align: right;\n",
       "    }\n",
       "</style>\n",
       "<table border=\"1\" class=\"dataframe\">\n",
       "  <thead>\n",
       "    <tr style=\"text-align: right;\">\n",
       "      <th></th>\n",
       "      <th>0</th>\n",
       "      <th>1</th>\n",
       "    </tr>\n",
       "  </thead>\n",
       "  <tbody>\n",
       "    <tr>\n",
       "      <th>0</th>\n",
       "      <td>56862</td>\n",
       "      <td>2</td>\n",
       "    </tr>\n",
       "    <tr>\n",
       "      <th>1</th>\n",
       "      <td>24</td>\n",
       "      <td>74</td>\n",
       "    </tr>\n",
       "  </tbody>\n",
       "</table>\n",
       "</div>"
      ],
      "text/plain": [
       "       0   1\n",
       "0  56862   2\n",
       "1     24  74"
      ]
     },
     "execution_count": 54,
     "metadata": {},
     "output_type": "execute_result"
    }
   ],
   "source": [
    "conf_matrix_df"
   ]
  },
  {
   "cell_type": "code",
   "execution_count": 55,
   "metadata": {
    "colab": {
     "base_uri": "https://localhost:8080/",
     "height": 265
    },
    "id": "25m2HweSUBsd",
    "outputId": "c0587069-659a-4197-9e8d-881fd3db9756"
   },
   "outputs": [
    {
     "data": {
      "image/png": "[encoded data removed]",
      "text/plain": [
       "<Figure size 432x288 with 2 Axes>"
      ]
     },
     "metadata": {
      "needs_background": "light"
     },
     "output_type": "display_data"
    }
   ],
   "source": [
    "sns.heatmap(conf_matrix_df, annot=True, cmap=\"YlGnBu\")\n",
    "plt.show()"
   ]
  },
  {
   "cell_type": "code",
   "execution_count": 56,
   "metadata": {
    "colab": {
     "base_uri": "https://localhost:8080/"
    },
    "id": "gdBEeip_UGL0",
    "outputId": "c0a35d41-cd0f-4cb8-b082-45d313b07bf8"
   },
   "outputs": [
    {
     "data": {
      "text/plain": [
       "0.9995435553526912"
      ]
     },
     "execution_count": 56,
     "metadata": {},
     "output_type": "execute_result"
    }
   ],
   "source": [
    "accuracy_score(Y_test, y_predict)"
   ]
  },
  {
   "cell_type": "code",
   "execution_count": 57,
   "metadata": {
    "id": "YyS4qgCZUKIj"
   },
   "outputs": [],
   "source": [
    "#NAiveBayes\n",
    "from sklearn.naive_bayes import GaussianNB"
   ]
  },
  {
   "cell_type": "code",
   "execution_count": 58,
   "metadata": {
    "id": "ERVvRFpuUnBW"
   },
   "outputs": [],
   "source": [
    "nb = GaussianNB()"
   ]
  },
  {
   "cell_type": "code",
   "execution_count": 59,
   "metadata": {
    "colab": {
     "base_uri": "https://localhost:8080/"
    },
    "id": "v8VixtmhUpIb",
    "outputId": "d4420813-6e8f-45fd-b4fd-7dc823dd47e8"
   },
   "outputs": [
    {
     "data": {
      "text/plain": [
       "GaussianNB()"
      ]
     },
     "execution_count": 59,
     "metadata": {},
     "output_type": "execute_result"
    }
   ],
   "source": [
    "# fit train set using Gaussian Naive Bayes\n",
    "nb.fit(X_train, Y_train)"
   ]
  },
  {
   "cell_type": "code",
   "execution_count": 60,
   "metadata": {
    "colab": {
     "base_uri": "https://localhost:8080/"
    },
    "id": "pd8JiSM5Uq2q",
    "outputId": "c2b68c0d-94f2-4ce4-82ae-641cf2249076"
   },
   "outputs": [
    {
     "data": {
      "text/plain": [
       "0.999065153942373"
      ]
     },
     "execution_count": 60,
     "metadata": {},
     "output_type": "execute_result"
    }
   ],
   "source": [
    "# compute the accuracy of train set\n",
    "nb.score(X_train, Y_train)"
   ]
  },
  {
   "cell_type": "code",
   "execution_count": 61,
   "metadata": {
    "id": "vBixBr1LUtuQ"
   },
   "outputs": [],
   "source": [
    "y_predict = nb.predict(X_test)"
   ]
  },
  {
   "cell_type": "code",
   "execution_count": 62,
   "metadata": {
    "id": "j5XAPQbUUyus"
   },
   "outputs": [],
   "source": [
    "from sklearn.metrics import confusion_matrix, accuracy_score"
   ]
  },
  {
   "cell_type": "code",
   "execution_count": 63,
   "metadata": {
    "colab": {
     "base_uri": "https://localhost:8080/"
    },
    "id": "O1HeSpDNU0nF",
    "outputId": "aad1b492-dd56-40a3-ec1e-0bd04db4222e"
   },
   "outputs": [
    {
     "name": "stdout",
     "output_type": "stream",
     "text": [
      "[[56846    18]\n",
      " [   21    77]]\n"
     ]
    }
   ],
   "source": [
    "conf_matrix = confusion_matrix(Y_test, y_predict)\n",
    "print(conf_matrix)"
   ]
  },
  {
   "cell_type": "code",
   "execution_count": 64,
   "metadata": {
    "id": "KhfL9aFuU2ns"
   },
   "outputs": [],
   "source": [
    "flag_transaksi_fraud = dtn['Class'].unique()\n",
    "conf_matrix_df = pd.DataFrame(data=conf_matrix, columns=Class, index=Class)"
   ]
  },
  {
   "cell_type": "code",
   "execution_count": 65,
   "metadata": {
    "colab": {
     "base_uri": "https://localhost:8080/",
     "height": 111
    },
    "id": "_WaoiB6DVHUD",
    "outputId": "5f4d804d-573e-4b20-8575-23b736b07cc9"
   },
   "outputs": [
    {
     "data": {
      "text/html": [
       "<div>\n",
       "<style scoped>\n",
       "    .dataframe tbody tr th:only-of-type {\n",
       "        vertical-align: middle;\n",
       "    }\n",
       "\n",
       "    .dataframe tbody tr th {\n",
       "        vertical-align: top;\n",
       "    }\n",
       "\n",
       "    .dataframe thead th {\n",
       "        text-align: right;\n",
       "    }\n",
       "</style>\n",
       "<table border=\"1\" class=\"dataframe\">\n",
       "  <thead>\n",
       "    <tr style=\"text-align: right;\">\n",
       "      <th></th>\n",
       "      <th>0</th>\n",
       "      <th>1</th>\n",
       "    </tr>\n",
       "  </thead>\n",
       "  <tbody>\n",
       "    <tr>\n",
       "      <th>0</th>\n",
       "      <td>56846</td>\n",
       "      <td>18</td>\n",
       "    </tr>\n",
       "    <tr>\n",
       "      <th>1</th>\n",
       "      <td>21</td>\n",
       "      <td>77</td>\n",
       "    </tr>\n",
       "  </tbody>\n",
       "</table>\n",
       "</div>"
      ],
      "text/plain": [
       "       0   1\n",
       "0  56846  18\n",
       "1     21  77"
      ]
     },
     "execution_count": 65,
     "metadata": {},
     "output_type": "execute_result"
    }
   ],
   "source": [
    "conf_matrix_df"
   ]
  },
  {
   "cell_type": "code",
   "execution_count": 66,
   "metadata": {
    "colab": {
     "base_uri": "https://localhost:8080/",
     "height": 265
    },
    "id": "TcbrqU3LVJN4",
    "outputId": "f4fa18d5-e2af-4662-e67e-8caa13d0d07f"
   },
   "outputs": [
    {
     "data": {
      "image/png": "[encoded data removed]",
      "text/plain": [
       "<Figure size 432x288 with 2 Axes>"
      ]
     },
     "metadata": {
      "needs_background": "light"
     },
     "output_type": "display_data"
    }
   ],
   "source": [
    "sns.heatmap(conf_matrix_df, annot=True, cmap=\"YlGnBu\")\n",
    "plt.show()"
   ]
  },
  {
   "cell_type": "code",
   "execution_count": 67,
   "metadata": {
    "colab": {
     "base_uri": "https://localhost:8080/"
    },
    "id": "Lo0Vam7dVMtE",
    "outputId": "eabf44ce-7469-4cfe-f2b5-add994369102"
   },
   "outputs": [
    {
     "data": {
      "text/plain": [
       "0.9993153330290369"
      ]
     },
     "execution_count": 67,
     "metadata": {},
     "output_type": "execute_result"
    }
   ],
   "source": [
    "accuracy_score(Y_test, y_predict)"
   ]
  }
 ],
 "metadata": {
  "colab": {
   "name": "CreditcardFraudTugasAI.ipynb",
   "provenance": []
  },
  "kernelspec": {
   "display_name": "Python 3",
   "language": "python",
   "name": "python3"
  },
  "language_info": {
   "codemirror_mode": {
    "name": "ipython",
    "version": 3
   },
   "file_extension": ".py",
   "mimetype": "text/x-python",
   "name": "python",
   "nbconvert_exporter": "python",
   "pygments_lexer": "ipython3",
   "version": "3.9.1"
  }
 },
 "nbformat": 4,
 "nbformat_minor": 1
}
